{
 "cells": [
  {
   "cell_type": "code",
   "execution_count": 1,
   "id": "2d1ee5ed",
   "metadata": {},
   "outputs": [
    {
     "name": "stdout",
     "output_type": "stream",
     "text": [
      "Tue Nov  8 12:46:56 2022       \n",
      "+-----------------------------------------------------------------------------+\n",
      "| NVIDIA-SMI 520.61.05    Driver Version: 520.61.05    CUDA Version: 11.8     |\n",
      "|-------------------------------+----------------------+----------------------+\n",
      "| GPU  Name        Persistence-M| Bus-Id        Disp.A | Volatile Uncorr. ECC |\n",
      "| Fan  Temp  Perf  Pwr:Usage/Cap|         Memory-Usage | GPU-Util  Compute M. |\n",
      "|                               |                      |               MIG M. |\n",
      "|===============================+======================+======================|\n",
      "|   0  NVIDIA GeForce ...  On   | 00000000:01:00.0  On |                  N/A |\n",
      "|  0%   49C    P5    39W / 270W |   2256MiB /  8192MiB |     28%      Default |\n",
      "|                               |                      |                  N/A |\n",
      "+-------------------------------+----------------------+----------------------+\n",
      "                                                                               \n",
      "+-----------------------------------------------------------------------------+\n",
      "| Processes:                                                                  |\n",
      "|  GPU   GI   CI        PID   Type   Process name                  GPU Memory |\n",
      "|        ID   ID                                                   Usage      |\n",
      "|=============================================================================|\n",
      "|    0   N/A  N/A      1171      G   /usr/lib/xorg/Xorg                303MiB |\n",
      "|    0   N/A  N/A      1376      G   /usr/bin/gnome-shell               52MiB |\n",
      "|    0   N/A  N/A     11693      G   /usr/lib/firefox/firefox          434MiB |\n",
      "|    0   N/A  N/A     16419      C   ...envs/yuth-mldl/bin/python      556MiB |\n",
      "|    0   N/A  N/A     29180      C   ...envs/yuth-mldl/bin/python      904MiB |\n",
      "+-----------------------------------------------------------------------------+\n"
     ]
    }
   ],
   "source": [
    "!nvidia-smi"
   ]
  },
  {
   "cell_type": "code",
   "execution_count": 2,
   "id": "3798c866",
   "metadata": {},
   "outputs": [],
   "source": [
    "import os\n",
    "import numpy as np\n",
    "os.environ['CUDA_VISIBLE_DEVICES'] ='0'"
   ]
  },
  {
   "cell_type": "code",
   "execution_count": 3,
   "id": "12cf41c6",
   "metadata": {},
   "outputs": [],
   "source": [
    "import torchvision\n",
    "import torch"
   ]
  },
  {
   "cell_type": "markdown",
   "id": "49ccbfad-24aa-4e2b-af5d-f7e7829e7b5c",
   "metadata": {},
   "source": [
    "# Load Data From Library"
   ]
  },
  {
   "cell_type": "code",
   "execution_count": 4,
   "id": "6a7328f7",
   "metadata": {},
   "outputs": [],
   "source": [
    "transform = torchvision.transforms.Compose([torchvision.transforms.ToTensor(),torchvision.transforms.Normalize(0.1306,0.3081)])\n",
    "dataset_train = torchvision.datasets.MNIST(root=\"./\",transform = transform,train = True) #download=True\n",
    "dataset_test  = torchvision.datasets.MNIST(root=\"./\",transform = transform,train = False)"
   ]
  },
  {
   "cell_type": "code",
   "execution_count": 5,
   "id": "36fd57f5",
   "metadata": {},
   "outputs": [
    {
     "name": "stdout",
     "output_type": "stream",
     "text": [
      "Dataset MNIST\n",
      "    Number of datapoints: 60000\n",
      "    Root location: ./\n",
      "    Split: Train\n",
      "    StandardTransform\n",
      "Transform: Compose(\n",
      "               ToTensor()\n",
      "               Normalize(mean=0.1306, std=0.3081)\n",
      "           )\n",
      "Dataset MNIST\n",
      "    Number of datapoints: 10000\n",
      "    Root location: ./\n",
      "    Split: Test\n",
      "    StandardTransform\n",
      "Transform: Compose(\n",
      "               ToTensor()\n",
      "               Normalize(mean=0.1306, std=0.3081)\n",
      "           )\n"
     ]
    }
   ],
   "source": [
    "print(dataset_train)\n",
    "print(dataset_test)"
   ]
  },
  {
   "cell_type": "markdown",
   "id": "ef42a70d-397a-425b-9e61-50064efeb8c3",
   "metadata": {},
   "source": [
    "# Load Data into Dataloader"
   ]
  },
  {
   "cell_type": "code",
   "execution_count": 6,
   "id": "837abf83",
   "metadata": {},
   "outputs": [],
   "source": [
    "#load data\n",
    "from torch.utils.data import DataLoader"
   ]
  },
  {
   "cell_type": "code",
   "execution_count": 27,
   "id": "7298aab7",
   "metadata": {},
   "outputs": [],
   "source": [
    "dataloader_train = DataLoader(dataset = dataset_train , batch_size = 8, shuffle = True)\n",
    "dataloader_test = DataLoader(dataset = dataset_test , batch_size = 10000, shuffle = True)"
   ]
  },
  {
   "cell_type": "code",
   "execution_count": 8,
   "id": "d51e55c8",
   "metadata": {},
   "outputs": [
    {
     "name": "stdout",
     "output_type": "stream",
     "text": [
      "7500\n",
      "1250\n"
     ]
    }
   ],
   "source": [
    "print(len(dataloader_train))\n",
    "print(len(dataloader_test))"
   ]
  },
  {
   "cell_type": "code",
   "execution_count": 9,
   "id": "5c35e873",
   "metadata": {},
   "outputs": [
    {
     "data": {
      "text/plain": [
       "7500.0"
      ]
     },
     "execution_count": 9,
     "metadata": {},
     "output_type": "execute_result"
    }
   ],
   "source": [
    "60000/8"
   ]
  },
  {
   "cell_type": "markdown",
   "id": "7e1968a6-bdfb-4efa-9238-03622d86a759",
   "metadata": {},
   "source": [
    "# View and Verify Data"
   ]
  },
  {
   "cell_type": "code",
   "execution_count": 10,
   "id": "d4df2f00",
   "metadata": {},
   "outputs": [
    {
     "name": "stdout",
     "output_type": "stream",
     "text": [
      "torch.Size([8, 1, 28, 28])\n",
      "torch.Size([8])\n"
     ]
    }
   ],
   "source": [
    "for img, targ in dataloader_train:\n",
    "    print(img.shape)\n",
    "    print(targ.shape)\n",
    "    break"
   ]
  },
  {
   "cell_type": "code",
   "execution_count": 11,
   "id": "1df4556e",
   "metadata": {},
   "outputs": [
    {
     "data": {
      "image/png": "[encoded data removed]",
      "text/plain": [
       "<Figure size 640x480 with 1 Axes>"
      ]
     },
     "metadata": {},
     "output_type": "display_data"
    }
   ],
   "source": [
    "import matplotlib.pyplot as plt\n",
    "from IPython.display import clear_output\n",
    "import time\n",
    "for i in range(7):\n",
    "    plt.imshow(img[i].squeeze(0))\n",
    "    plt.title(\"Target : \" + str(targ[i].item()))\n",
    "    plt.show()\n",
    "    time.sleep(0.5)\n",
    "    clear_output(wait=True)"
   ]
  },
  {
   "cell_type": "code",
   "execution_count": null,
   "id": "64c58733",
   "metadata": {},
   "outputs": [],
   "source": [
    "figure, axis = plt.subplots(2, 4)\n",
    "\n",
    "axis[0, 0].imshow(img[0].squeeze(0))\n",
    "axis[0, 1].imshow(img[1].squeeze(0))\n",
    "axis[0, 2].imshow(img[2].squeeze(0))\n",
    "axis[0, 3].imshow(img[3].squeeze(0))\n",
    "axis[1, 0].imshow(img[4].squeeze(0))\n",
    "axis[1, 1].imshow(img[5].squeeze(0))\n",
    "axis[1, 2].imshow(img[6].squeeze(0))\n",
    "axis[1, 3].imshow(img[7].squeeze(0))\n",
    "plt.show()"
   ]
  },
  {
   "cell_type": "markdown",
   "id": "d787e495-d786-44fb-bde7-c03c7b737292",
   "metadata": {},
   "source": [
    "# Create Model"
   ]
  },
  {
   "cell_type": "code",
   "execution_count": 12,
   "id": "cc59150d",
   "metadata": {},
   "outputs": [],
   "source": [
    "import torch.nn as nn"
   ]
  },
  {
   "cell_type": "code",
   "execution_count": 13,
   "id": "7ba689a0",
   "metadata": {},
   "outputs": [],
   "source": [
    "class Model(nn.Module):\n",
    "    def __init__(self,nm_class = 10):\n",
    "        super(Model,self).__init__()\n",
    "        self.nm_class = nm_class\n",
    "        self.linear1 = nn.Linear(28*28,28*28*2)\n",
    "        self.linear2 = nn.Linear(28*28*2,10)\n",
    "        self.relu = nn.ReLU()\n",
    "        self.bn = nn.BatchNorm1d(28*28*2)\n",
    "\n",
    "    def forward(self, x):\n",
    "        # we have image (8,1,28,28), we want to (8,28*28)\n",
    "        x = x.reshape(x.shape[0],-1)\n",
    "        x = self.linear1(x)\n",
    "        x = self.bn(x)\n",
    "        x = self.relu(x)\n",
    "        x = self.linear2(x)\n",
    "        return x"
   ]
  },
  {
   "cell_type": "code",
   "execution_count": 14,
   "id": "065c3a37",
   "metadata": {},
   "outputs": [
    {
     "name": "stdout",
     "output_type": "stream",
     "text": [
      "Model(\n",
      "  (linear1): Linear(in_features=784, out_features=1568, bias=True)\n",
      "  (linear2): Linear(in_features=1568, out_features=10, bias=True)\n",
      "  (relu): ReLU()\n",
      "  (bn): BatchNorm1d(1568, eps=1e-05, momentum=0.1, affine=True, track_running_stats=True)\n",
      ")\n"
     ]
    }
   ],
   "source": [
    "model = Model(10).to(\"cuda\")\n",
    "print(model)"
   ]
  },
  {
   "cell_type": "markdown",
   "id": "2175e0eb-6983-4192-b67b-590191240bb9",
   "metadata": {},
   "source": [
    "# Test Model with Fake Data"
   ]
  },
  {
   "cell_type": "code",
   "execution_count": 15,
   "id": "c60aebb9",
   "metadata": {},
   "outputs": [
    {
     "name": "stdout",
     "output_type": "stream",
     "text": [
      "torch.Size([8, 28, 28])\n",
      "torch.Size([8, 10])\n"
     ]
    }
   ],
   "source": [
    "# fake data\n",
    "f_data = torch.rand((8,28,28)).to(\"cuda\")\n",
    "outp = model(f_data)\n",
    "print(f_data.shape)\n",
    "print(outp.shape)"
   ]
  },
  {
   "cell_type": "markdown",
   "id": "41075601-397f-4743-b642-5a58eb61b60b",
   "metadata": {},
   "source": [
    "# Create Loss and Optim"
   ]
  },
  {
   "cell_type": "code",
   "execution_count": 16,
   "id": "8854a71d",
   "metadata": {},
   "outputs": [],
   "source": [
    "#init loss and optimizer\n",
    "criterion = nn.CrossEntropyLoss()\n",
    "optimizer = torch.optim.Adam(params = model.parameters(),lr = 0.0003)"
   ]
  },
  {
   "cell_type": "markdown",
   "id": "4c18e290-a820-4bec-8520-294aee016f26",
   "metadata": {},
   "source": [
    "# Training"
   ]
  },
  {
   "cell_type": "code",
   "execution_count": 18,
   "id": "c4d4ea6c",
   "metadata": {},
   "outputs": [
    {
     "name": "stdout",
     "output_type": "stream",
     "text": [
      "EPC : 0   Acc:  tensor(0.9088, device='cuda:0')\n",
      "EPC : 1   Acc:  tensor(0.9453, device='cuda:0')\n",
      "EPC : 2   Acc:  tensor(0.9561, device='cuda:0')\n",
      "EPC : 3   Acc:  tensor(0.9625, device='cuda:0')\n",
      "EPC : 4   Acc:  tensor(0.9678, device='cuda:0')\n",
      "EPC : 5   Acc:  tensor(0.9691, device='cuda:0')\n",
      "EPC : 6   Acc:  tensor(0.9723, device='cuda:0')\n",
      "EPC : 7   Acc:  tensor(0.9750, device='cuda:0')\n",
      "EPC : 8   Acc:  tensor(0.9770, device='cuda:0')\n",
      "EPC : 9   Acc:  tensor(0.9783, device='cuda:0')\n"
     ]
    }
   ],
   "source": [
    "#train\n",
    "for epc in range(10):\n",
    "    model.train()\n",
    "    num_cor = 0\n",
    "    num_samp = 0\n",
    "    loss_list = []\n",
    "    for data,target in dataloader_train:\n",
    "        data = data.to(\"cuda\")\n",
    "        target = target.to(\"cuda\")\n",
    "\n",
    "        #forward\n",
    "        output = model(data)\n",
    "        loss = criterion(output,target)\n",
    "        loss_list.append(loss)\n",
    "        \n",
    "        _,pred = output.max(1)\n",
    "\n",
    "        num_cor += (pred == target).sum()\n",
    "        num_samp += pred.size(0)\n",
    "        \n",
    "\n",
    "        #backward\n",
    "        optimizer.zero_grad()\n",
    "        loss.backward()\n",
    "\n",
    "        #grad decent or adam\n",
    "        optimizer.step()\n",
    "    acc = num_cor/num_samp\n",
    "    print(\"EPC : \"+str(epc)+\"   Acc:  \"+str(acc))"
   ]
  },
  {
   "cell_type": "markdown",
   "id": "51dff42a-b5b7-46d3-b657-b88e74c06a82",
   "metadata": {},
   "source": [
    "# Save and Load Model"
   ]
  },
  {
   "cell_type": "code",
   "execution_count": 19,
   "id": "7c6e6f07",
   "metadata": {},
   "outputs": [],
   "source": [
    "torch.save(model, \"modelsave.pt\")"
   ]
  },
  {
   "cell_type": "code",
   "execution_count": 20,
   "id": "ae023628-18e2-427d-845e-4d59beae6af8",
   "metadata": {},
   "outputs": [
    {
     "data": {
      "text/plain": [
       "Model(\n",
       "  (linear1): Linear(in_features=784, out_features=1568, bias=True)\n",
       "  (linear2): Linear(in_features=1568, out_features=10, bias=True)\n",
       "  (relu): ReLU()\n",
       "  (bn): BatchNorm1d(1568, eps=1e-05, momentum=0.1, affine=True, track_running_stats=True)\n",
       ")"
      ]
     },
     "execution_count": 20,
     "metadata": {},
     "output_type": "execute_result"
    }
   ],
   "source": [
    "model = torch.load(\"./modelsave.pt\")\n",
    "model.eval()"
   ]
  },
  {
   "cell_type": "markdown",
   "id": "842e29b8-4fbe-4831-9264-fe5b29f53132",
   "metadata": {},
   "source": [
    "# Predicting"
   ]
  },
  {
   "cell_type": "code",
   "execution_count": 28,
   "id": "759b4ace-9958-4323-88c0-aaa904c8ce2e",
   "metadata": {},
   "outputs": [
    {
     "name": "stdout",
     "output_type": "stream",
     "text": [
      "----------------------STARTING TO PREDICT----------------------\n",
      "6\n",
      "6\n"
     ]
    },
    {
     "data": {
      "image/png": "[encoded data removed]",
      "text/plain": [
       "<Figure size 640x480 with 1 Axes>"
      ]
     },
     "metadata": {},
     "output_type": "display_data"
    }
   ],
   "source": [
    "index = 555\n",
    "for imgt, targt in dataloader_test:\n",
    "    # print(imgt.size())\n",
    "    # print(imgt[1].size())\n",
    "    print(\"----------------------STARTING TO PREDICT----------------------\")\n",
    "    pred = model(imgt.to(\"cuda\"))\n",
    "    print(targt[index].item())\n",
    "    print(pred[index].argmax().item())\n",
    "    plt.imshow(imgt[index].squeeze(0))\n",
    "    break"
   ]
  },
  {
   "cell_type": "code",
   "execution_count": 46,
   "id": "1b82c3d3-4601-4635-9e5a-38bae2dc451c",
   "metadata": {},
   "outputs": [
    {
     "name": "stdout",
     "output_type": "stream",
     "text": [
      "torch.Size([10000, 1, 28, 28])\n",
      "torch.Size([10000])\n",
      "torch.Size([10000, 10])\n"
     ]
    }
   ],
   "source": [
    "count_correct = 0\n",
    "for imgt, targt in dataloader_test:\n",
    "    \n",
    "    print(imgt.size())\n",
    "    print(targt.size())\n",
    "    pred = model(imgt.to(\"cuda\"))\n",
    "    \n",
    "    print(pred.size())\n",
    "    for i in range(10000):\n",
    "        prediction = pred[i].argmax().item()\n",
    "        actual = targt[i].item()\n",
    "        if prediction == actual:\n",
    "            count_correct += 1\n",
    "    "
   ]
  },
  {
   "cell_type": "code",
   "execution_count": 47,
   "id": "3aafabf4-39bd-42f0-b35e-8a6defbdae4b",
   "metadata": {},
   "outputs": [
    {
     "name": "stdout",
     "output_type": "stream",
     "text": [
      "9807\n"
     ]
    }
   ],
   "source": [
    "print(count_correct)"
   ]
  },
  {
   "cell_type": "code",
   "execution_count": 50,
   "id": "31fa3e56-b4a1-47f9-a70b-ca2ddfeaaba4",
   "metadata": {},
   "outputs": [
    {
     "name": "stdout",
     "output_type": "stream",
     "text": [
      "0.9807\n"
     ]
    }
   ],
   "source": [
    "accur = count_correct/10000\n",
    "print(accur)"
   ]
  },
  {
   "cell_type": "code",
   "execution_count": null,
   "id": "95aa5048-2644-401b-8bdf-5de53aec64de",
   "metadata": {},
   "outputs": [],
   "source": []
  }
 ],
 "metadata": {
  "kernelspec": {
   "display_name": "Python 3 (ipykernel)",
   "language": "python",
   "name": "python3"
  },
  "language_info": {
   "codemirror_mode": {
    "name": "ipython",
    "version": 3
   },
   "file_extension": ".py",
   "mimetype": "text/x-python",
   "name": "python",
   "nbconvert_exporter": "python",
   "pygments_lexer": "ipython3",
   "version": "3.9.13"
  },
  "varInspector": {
   "cols": {
    "lenName": 16,
    "lenType": 16,
    "lenVar": 40
   },
   "kernels_config": {
    "python": {
     "delete_cmd_postfix": "",
     "delete_cmd_prefix": "del ",
     "library": "var_list.py",
     "varRefreshCmd": "print(var_dic_list())"
    },
    "r": {
     "delete_cmd_postfix": ") ",
     "delete_cmd_prefix": "rm(",
     "library": "var_list.r",
     "varRefreshCmd": "cat(var_dic_list()) "
    }
   },
   "types_to_exclude": [
    "module",
    "function",
    "builtin_function_or_method",
    "instance",
    "_Feature"
   ],
   "window_display": false
  }
 },
 "nbformat": 4,
 "nbformat_minor": 5
}
