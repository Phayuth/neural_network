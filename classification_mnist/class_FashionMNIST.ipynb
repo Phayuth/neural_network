{
 "cells": [
  {
   "cell_type": "code",
   "execution_count": null,
   "id": "6480d68f",
   "metadata": {},
   "outputs": [],
   "source": [
    "# Show Result on the right hand side\n",
    "from IPython.core.display import HTML\n",
    "display(HTML(\"\"\"\n",
    "        <style>\n",
    "        #notebook-container {\n",
    "            width: 100%\n",
    "        }\n",
    "\n",
    "        .code_cell {\n",
    "           flex-direction: row !important;\n",
    "        }\n",
    "\n",
    "        .code_cell .input {\n",
    "            width: 50%\n",
    "        }\n",
    "\n",
    "        .code_cell .output_wrapper {\n",
    "            width: 50%\n",
    "        }\n",
    "        </style>\n",
    "        \"\"\"))\n"
   ]
  },
  {
   "cell_type": "code",
   "execution_count": null,
   "id": "f96a3c10",
   "metadata": {},
   "outputs": [],
   "source": [
    "!nvidia-smi"
   ]
  },
  {
   "cell_type": "code",
   "execution_count": null,
   "id": "20779008",
   "metadata": {},
   "outputs": [],
   "source": [
    "from IPython.display import clear_output"
   ]
  },
  {
   "cell_type": "markdown",
   "id": "7356ca88",
   "metadata": {},
   "source": [
    "TEST\n",
    "https://pytorch.org/tutorials/beginner/basics/quickstart_tutorial.html"
   ]
  },
  {
   "cell_type": "markdown",
   "id": "14e4dcac",
   "metadata": {},
   "source": [
    "# CREAT MODELS"
   ]
  },
  {
   "cell_type": "markdown",
   "id": "ab6c2e27",
   "metadata": {},
   "source": [
    "First : Decide What hardware to use to train model."
   ]
  },
  {
   "cell_type": "code",
   "execution_count": null,
   "id": "0125ec9c",
   "metadata": {},
   "outputs": [],
   "source": [
    "# Store devices into variable device\n",
    "import torch\n",
    "from torch import nn\n",
    "if torch.cuda.is_available():\n",
    "    device = \"cuda\"\n",
    "else:\n",
    "    device = \"cpu\"\n",
    "print(device)"
   ]
  },
  {
   "cell_type": "code",
   "execution_count": null,
   "id": "5aa7a915",
   "metadata": {},
   "outputs": [],
   "source": [
    "class NeuralNetwork(nn.Module):\n",
    "    def __init__(self):\n",
    "        super().__init__()\n",
    "        self.flatten  = nn.Flatten()\n",
    "        self.linear_1 = nn.Linear(28*28,512)\n",
    "        self.relu_1   = nn.ReLU()\n",
    "        self.linear_2 = nn.Linear(512,1000)\n",
    "        self.relu_2   = nn.ReLU()\n",
    "        self.linear_3 = nn.Linear(1000,10)\n",
    "    \n",
    "    def forward(self,x):\n",
    "        x = self.flatten(x)\n",
    "        x = self.linear_1(x)\n",
    "        x = self.relu_1(x)\n",
    "        x = self.linear_2(x)\n",
    "        x = self.relu_2(x)\n",
    "        x = self.linear_3(x)\n",
    "        return x"
   ]
  },
  {
   "cell_type": "code",
   "execution_count": null,
   "id": "a33b9e5d",
   "metadata": {},
   "outputs": [],
   "source": [
    "# https://www.kaggle.com/code/pankajj/fashion-mnist-with-pytorch-93-accuracy/notebook\n",
    "class NeuralNetwork(nn.Module):\n",
    "    def __init__(self):\n",
    "        super().__init__()\n",
    "        self.layer1 = nn.Sequential(\n",
    "            nn.Conv2d(in_channels=1, out_channels=32, kernel_size=3, padding=1),\n",
    "            nn.BatchNorm2d(32),\n",
    "            nn.ReLU(),\n",
    "            nn.MaxPool2d(kernel_size=2, stride=2)\n",
    "        )\n",
    "        \n",
    "        self.layer2 = nn.Sequential(\n",
    "            nn.Conv2d(in_channels=32, out_channels=64, kernel_size=3),\n",
    "            nn.BatchNorm2d(64),\n",
    "            nn.ReLU(),\n",
    "            nn.MaxPool2d(2)\n",
    "        )\n",
    "        \n",
    "        self.fc1 = nn.Linear(in_features=64*6*6, out_features=600)\n",
    "        self.drop = nn.Dropout2d(0.25)\n",
    "        self.fc2 = nn.Linear(in_features=600, out_features=120)\n",
    "        self.fc3 = nn.Linear(in_features=120, out_features=10)\n",
    "        \n",
    "    def forward(self, x):\n",
    "        out = self.layer1(x)\n",
    "        out = self.layer2(out)\n",
    "        out = out.view(out.size(0), -1)\n",
    "        out = self.fc1(out)\n",
    "        out = self.drop(out)\n",
    "        out = self.fc2(out)\n",
    "        out = self.fc3(out)\n",
    "        \n",
    "        return out"
   ]
  },
  {
   "cell_type": "code",
   "execution_count": null,
   "id": "7dbff4fe",
   "metadata": {},
   "outputs": [],
   "source": [
    "# model = NeuralNetwork() # for cpu\n",
    "model = NeuralNetwork().to(device) # for gpu\n",
    "print(model)"
   ]
  },
  {
   "cell_type": "markdown",
   "id": "afae047d",
   "metadata": {},
   "source": [
    "# Create Loss and Optim Func"
   ]
  },
  {
   "cell_type": "code",
   "execution_count": null,
   "id": "ae776a25",
   "metadata": {},
   "outputs": [],
   "source": [
    "# We need loss_func\n",
    "loss_func = nn.CrossEntropyLoss()\n",
    "# We need optimizer\n",
    "opt = torch.optim.SGD(model.parameters(),lr=1e-3)"
   ]
  },
  {
   "cell_type": "markdown",
   "id": "174df79d",
   "metadata": {},
   "source": [
    "# Load Data"
   ]
  },
  {
   "cell_type": "code",
   "execution_count": null,
   "id": "b8f6de7e",
   "metadata": {
    "scrolled": true
   },
   "outputs": [],
   "source": [
    "# Create dataloader dataset and transform to tensor\n",
    "from torch.utils.data import DataLoader\n",
    "from torchvision import datasets\n",
    "from torchvision.transforms import ToTensor\n",
    "# Download training data from open datasets.\n",
    "training_data = datasets.FashionMNIST(\n",
    "    root=\"data\",\n",
    "    train=True,\n",
    "    download=True,\n",
    "    transform=ToTensor(),\n",
    ")\n",
    "\n",
    "# Download test data from open datasets.\n",
    "test_data = datasets.FashionMNIST(\n",
    "    root=\"data\",\n",
    "    train=False,\n",
    "    download=True,\n",
    "    transform=ToTensor(),\n",
    ")"
   ]
  },
  {
   "cell_type": "code",
   "execution_count": null,
   "id": "a4890577",
   "metadata": {},
   "outputs": [],
   "source": [
    "# Load data in\n",
    "batch_size = 64\n",
    "\n",
    "train_dataloader = DataLoader(training_data, batch_size=batch_size,shuffle=True)\n",
    "test_dataloader = DataLoader(test_data,batch_size=batch_size,shuffle=True)"
   ]
  },
  {
   "cell_type": "markdown",
   "id": "3b698fef",
   "metadata": {},
   "source": [
    "# View Plot data Leng"
   ]
  },
  {
   "cell_type": "code",
   "execution_count": null,
   "id": "19fcdcaf",
   "metadata": {},
   "outputs": [],
   "source": [
    "# View Shape and plot leng\n",
    "import matplotlib.pyplot as plt\n",
    "\n",
    "for X, y in test_dataloader:\n",
    "    print(X.shape)\n",
    "    print(X[0].shape)\n",
    "    print(torch.squeeze(X[0]).shape)\n",
    "    plt.imshow(torch.squeeze(X[0]))\n",
    "    print(y.shape)\n",
    "    print(y[0])\n",
    "    break"
   ]
  },
  {
   "cell_type": "markdown",
   "id": "e2e5a793",
   "metadata": {},
   "source": [
    "# Create Training FUnc"
   ]
  },
  {
   "cell_type": "code",
   "execution_count": null,
   "id": "3a68eb83",
   "metadata": {},
   "outputs": [],
   "source": [
    "# Let create train func\n",
    "def train(dataloader, model, loss_func, opt):\n",
    "    size = len(dataloader.dataset)\n",
    "    model.train()\n",
    "    for batch, (X,y) in enumerate(dataloader):\n",
    "        X,y = X.to(device),y.to(device)\n",
    "        \n",
    "        # 1st prediction compt\n",
    "        pred = model(X)\n",
    "        \n",
    "        # 2nd loss compt\n",
    "        loss = loss_func(pred,y)\n",
    "        \n",
    "        # 3rd Back prog\n",
    "        opt.zero_grad()\n",
    "        loss.backward()\n",
    "        opt.step()\n",
    "        \n",
    "        if batch % 100 == 0:\n",
    "            loss, current = loss.item(), batch * len(X)\n",
    "            print(f\"loss: {loss:>7f}  [{current:>5d}/{size:>5d}]\")"
   ]
  },
  {
   "cell_type": "markdown",
   "id": "111907ec",
   "metadata": {},
   "source": [
    "# Create Test FUnc"
   ]
  },
  {
   "cell_type": "code",
   "execution_count": null,
   "id": "af389e5c",
   "metadata": {},
   "outputs": [],
   "source": [
    "# Let Create test func\n",
    "def test(dataloader, model, loss_func):\n",
    "    size = len(dataloader.dataset)\n",
    "    num_bat = len(dataloader)\n",
    "    model.eval()\n",
    "    test_loss, correct = 0,0\n",
    "    \n",
    "    with torch.no_grad():\n",
    "        for X, y in dataloader:\n",
    "            X, y = X.to(device), y.to(device)\n",
    "            pred = model(X)\n",
    "            test_loss += loss_func(pred, y).item()\n",
    "            correct += (pred.argmax(1) == y).type(torch.float).sum().item()\n",
    "    test_loss /= num_bat\n",
    "    correct /= size\n",
    "    print(f\"Test Error: \\n Accuracy: {(100*correct):>0.1f}%, Avg loss: {test_loss:>8f} \\n\")"
   ]
  },
  {
   "cell_type": "markdown",
   "id": "7ada4c38",
   "metadata": {},
   "source": [
    "# Start TRaining"
   ]
  },
  {
   "cell_type": "code",
   "execution_count": null,
   "id": "a4e783da",
   "metadata": {},
   "outputs": [],
   "source": [
    "# Let start training and testing\n",
    "epochs = 20\n",
    "for t in range(epochs):\n",
    "    print(f\"Epoch {t+1}\\n-------------------------------\")\n",
    "    train(train_dataloader, model, loss_func, opt)\n",
    "    test(test_dataloader, model, loss_func)\n",
    "print(\"Done!\")"
   ]
  },
  {
   "cell_type": "markdown",
   "id": "522814ba",
   "metadata": {},
   "source": [
    "# SAVE AND LOAD MODEL"
   ]
  },
  {
   "cell_type": "code",
   "execution_count": null,
   "id": "d45c3b2d",
   "metadata": {},
   "outputs": [],
   "source": [
    "# save model\n",
    "import torch\n",
    "torch.save(model.state_dict(), \"./save_model/fashion_model.pth\")\n",
    "print(\"Saved PyTorch Model State to model.pth\")"
   ]
  },
  {
   "cell_type": "code",
   "execution_count": null,
   "id": "a2c1bf3c",
   "metadata": {},
   "outputs": [],
   "source": [
    "# Load model\n",
    "model = NeuralNetwork()\n",
    "model.load_state_dict(torch.load(\"./save_model/fashion_model.pth\"))"
   ]
  },
  {
   "cell_type": "markdown",
   "id": "5b5973e4",
   "metadata": {},
   "source": [
    "# Start Prediction"
   ]
  },
  {
   "cell_type": "code",
   "execution_count": null,
   "id": "e55a4e0e",
   "metadata": {},
   "outputs": [],
   "source": [
    "classes_list = [\n",
    "    \"T-shirt/top\",\n",
    "    \"Trouser\",\n",
    "    \"Pullover\",\n",
    "    \"Dress\",\n",
    "    \"Coat\",\n",
    "    \"Sandal\",\n",
    "    \"Shirt\",\n",
    "    \"Sneaker\",\n",
    "    \"Bag\",\n",
    "    \"Ankle boot\"]\n",
    "\n",
    "model.eval()\n",
    "pic = 70\n",
    "x = test_data[pic][0]\n",
    "y = test_data[pic][1]\n",
    "with torch.no_grad():\n",
    "    pred      = model(x)\n",
    "    predicted = classes_list[pred[0].argmax(0)]\n",
    "    actual    = classes_list[y]\n",
    "    print(f'Predicted: \"{predicted}\", Actual: \"{actual}\"')"
   ]
  },
  {
   "cell_type": "code",
   "execution_count": null,
   "id": "6dfdf935",
   "metadata": {},
   "outputs": [],
   "source": []
  }
 ],
 "metadata": {
  "kernelspec": {
   "display_name": "Python 3 (ipykernel)",
   "language": "python",
   "name": "python3"
  },
  "language_info": {
   "codemirror_mode": {
    "name": "ipython",
    "version": 3
   },
   "file_extension": ".py",
   "mimetype": "text/x-python",
   "name": "python",
   "nbconvert_exporter": "python",
   "pygments_lexer": "ipython3",
   "version": "3.9.13"
  }
 },
 "nbformat": 4,
 "nbformat_minor": 5
}
