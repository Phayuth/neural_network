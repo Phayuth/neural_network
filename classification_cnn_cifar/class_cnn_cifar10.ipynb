{
 "cells": [
  {
   "cell_type": "markdown",
   "id": "cff3c525-17f8-459a-8e0e-b4646dcb2f4b",
   "metadata": {},
   "source": [
    "https://blog.paperspace.com/writing-cnns-from-scratch-in-pytorch/"
   ]
  },
  {
   "cell_type": "code",
   "execution_count": 1,
   "id": "6934e746-95f6-4235-83c1-db4d64850adc",
   "metadata": {},
   "outputs": [],
   "source": [
    "import torch\n",
    "import torch.nn as nn\n",
    "import torchvision\n",
    "import torchvision.transforms as transforms\n",
    "\n",
    "device = torch.device('cuda' if torch.cuda.is_available() else 'cpu')"
   ]
  },
  {
   "cell_type": "code",
   "execution_count": 2,
   "id": "7ec4641c-14ef-4c08-93fa-b1960e07b6cc",
   "metadata": {},
   "outputs": [],
   "source": [
    "batch_size = 64\n",
    "num_classes = 10\n",
    "learning_rate = 0.001\n",
    "num_epochs = 20"
   ]
  },
  {
   "cell_type": "markdown",
   "id": "5d8eb3aa-1cde-4390-8b4a-97dd4f3e3fbb",
   "metadata": {
    "tags": []
   },
   "source": [
    "# Create Transfomation for Dataset"
   ]
  },
  {
   "cell_type": "code",
   "execution_count": 3,
   "id": "75469216-4046-4a79-8ccb-f1731cf0b116",
   "metadata": {},
   "outputs": [],
   "source": [
    "all_transforms = transforms.Compose([transforms.Resize((32,32)),\n",
    "                                     transforms.ToTensor(),\n",
    "                                     transforms.Normalize(mean=[0.4914, 0.4822, 0.4465],\n",
    "                                                          std=[0.2023, 0.1994, 0.2010])\n",
    "                                     ])"
   ]
  },
  {
   "cell_type": "markdown",
   "id": "41d91d53-8597-4212-a78f-3ebc24ffe97b",
   "metadata": {},
   "source": [
    "# Load Dataset from library"
   ]
  },
  {
   "cell_type": "code",
   "execution_count": 4,
   "id": "64df9a5b-8ddf-458e-8b93-e03978d84757",
   "metadata": {},
   "outputs": [
    {
     "name": "stdout",
     "output_type": "stream",
     "text": [
      "Files already downloaded and verified\n",
      "Files already downloaded and verified\n"
     ]
    }
   ],
   "source": [
    "train_dataset = torchvision.datasets.CIFAR10(root = './data',\n",
    "                                             train = True,\n",
    "                                             transform = all_transforms,\n",
    "                                             download = True)\n",
    "\n",
    "test_dataset = torchvision.datasets.CIFAR10(root = './data',\n",
    "                                            train = False,\n",
    "                                            transform = all_transforms,\n",
    "                                            download=True)"
   ]
  },
  {
   "cell_type": "markdown",
   "id": "c58fe985-771c-4e2c-a9cc-034e522d18ed",
   "metadata": {},
   "source": [
    "# Load Dataset into Dataloader"
   ]
  },
  {
   "cell_type": "code",
   "execution_count": 5,
   "id": "bc89708f-a4e1-489e-b9f3-33c14a38245a",
   "metadata": {},
   "outputs": [],
   "source": [
    "train_loader = torch.utils.data.DataLoader(dataset = train_dataset,\n",
    "                                           batch_size = batch_size,\n",
    "                                           shuffle = True)\n",
    "\n",
    "\n",
    "test_loader = torch.utils.data.DataLoader(dataset = test_dataset,\n",
    "                                           batch_size = batch_size,\n",
    "                                           shuffle = True)"
   ]
  },
  {
   "cell_type": "markdown",
   "id": "a665a946-3f7f-4aca-9efd-b7d389a64a2b",
   "metadata": {},
   "source": [
    "# View and Verify Dataset"
   ]
  },
  {
   "cell_type": "code",
   "execution_count": 32,
   "id": "235eba1f-c72b-467c-8e89-5bfc3ae3d3e4",
   "metadata": {},
   "outputs": [
    {
     "name": "stderr",
     "output_type": "stream",
     "text": [
      "Clipping input data to the valid range for imshow with RGB data ([0..1] for floats or [0..255] for integers).\n"
     ]
    },
    {
     "name": "stdout",
     "output_type": "stream",
     "text": [
      "torch.Size([64, 3, 32, 32])\n",
      "torch.Size([64])\n",
      "torch.Size([3, 32, 32])\n"
     ]
    },
    {
     "data": {
      "image/png": "[encoded data removed]",
      "text/plain": [
       "<Figure size 640x480 with 1 Axes>"
      ]
     },
     "metadata": {},
     "output_type": "display_data"
    }
   ],
   "source": [
    "import matplotlib.pyplot as plt\n",
    "\n",
    "for img, targ in train_loader:\n",
    "    print(img.size())\n",
    "    print(targ.size())\n",
    "    img_single = img[0]\n",
    "    print(img_single.size())\n",
    "    plt.imshow(img_single.T)\n",
    "    break"
   ]
  },
  {
   "cell_type": "markdown",
   "id": "68dfe498-a454-4ee9-94e2-cadafb17613f",
   "metadata": {},
   "source": [
    "# Create Model"
   ]
  },
  {
   "cell_type": "markdown",
   "id": "0059e890-ab07-4f40-8d5d-a3de5a4cd82d",
   "metadata": {},
   "source": [
    "![](https://blog.paperspace.com/content/images/size/w1000/2021/05/image-32.png)"
   ]
  },
  {
   "cell_type": "code",
   "execution_count": 9,
   "id": "8622a3b9-ca0f-46a9-84fe-b8daa462853e",
   "metadata": {},
   "outputs": [],
   "source": [
    "class ConvNeuralNet(nn.Module):\n",
    "    def __init__(self, num_classes):\n",
    "        super(ConvNeuralNet, self).__init__()\n",
    "        self.conv_layer1 = nn.Conv2d(in_channels=3, out_channels=32, kernel_size=3)\n",
    "        self.conv_layer2 = nn.Conv2d(in_channels=32, out_channels=32, kernel_size=3)\n",
    "        self.max_pool1 = nn.MaxPool2d(kernel_size = 2, stride = 2)\n",
    "        \n",
    "        self.conv_layer3 = nn.Conv2d(in_channels=32, out_channels=64, kernel_size=3)\n",
    "        self.conv_layer4 = nn.Conv2d(in_channels=64, out_channels=64, kernel_size=3)\n",
    "        self.max_pool2 = nn.MaxPool2d(kernel_size = 2, stride = 2)\n",
    "        \n",
    "        self.fc1 = nn.Linear(1600, 128)\n",
    "        self.relu1 = nn.ReLU()\n",
    "        self.fc2 = nn.Linear(128, num_classes)\n",
    "    \n",
    "    def forward(self, x):\n",
    "        out = self.conv_layer1(x)\n",
    "        out = self.conv_layer2(out)\n",
    "        out = self.max_pool1(out)\n",
    "        \n",
    "        out = self.conv_layer3(out)\n",
    "        out = self.conv_layer4(out)\n",
    "        out = self.max_pool2(out)\n",
    "                \n",
    "        out = out.reshape(out.size(0), -1)\n",
    "        \n",
    "        out = self.fc1(out)\n",
    "        out = self.relu1(out)\n",
    "        out = self.fc2(out)\n",
    "        return out"
   ]
  },
  {
   "cell_type": "code",
   "execution_count": 10,
   "id": "1279293b-39eb-4ec7-9934-dbf5c7e82ac8",
   "metadata": {},
   "outputs": [
    {
     "name": "stdout",
     "output_type": "stream",
     "text": [
      "ConvNeuralNet(\n",
      "  (conv_layer1): Conv2d(3, 32, kernel_size=(3, 3), stride=(1, 1))\n",
      "  (conv_layer2): Conv2d(32, 32, kernel_size=(3, 3), stride=(1, 1))\n",
      "  (max_pool1): MaxPool2d(kernel_size=2, stride=2, padding=0, dilation=1, ceil_mode=False)\n",
      "  (conv_layer3): Conv2d(32, 64, kernel_size=(3, 3), stride=(1, 1))\n",
      "  (conv_layer4): Conv2d(64, 64, kernel_size=(3, 3), stride=(1, 1))\n",
      "  (max_pool2): MaxPool2d(kernel_size=2, stride=2, padding=0, dilation=1, ceil_mode=False)\n",
      "  (fc1): Linear(in_features=1600, out_features=128, bias=True)\n",
      "  (relu1): ReLU()\n",
      "  (fc2): Linear(in_features=128, out_features=10, bias=True)\n",
      ")\n"
     ]
    }
   ],
   "source": [
    "model = ConvNeuralNet(num_classes).to(device)\n",
    "print(model)"
   ]
  },
  {
   "cell_type": "markdown",
   "id": "04b25061-0704-4498-8f1b-16badeb666c1",
   "metadata": {},
   "source": [
    "# Create Loss and Optim"
   ]
  },
  {
   "cell_type": "code",
   "execution_count": 11,
   "id": "40cae969-da69-4f39-a71b-8461becd474d",
   "metadata": {},
   "outputs": [],
   "source": [
    "criterion = nn.CrossEntropyLoss()\n",
    "optimizer = torch.optim.SGD(model.parameters(), lr=learning_rate, weight_decay = 0.005, momentum = 0.9)  "
   ]
  },
  {
   "cell_type": "markdown",
   "id": "b7ad6147-72ca-44d8-9f37-422cc651af03",
   "metadata": {},
   "source": [
    "# Training Montage"
   ]
  },
  {
   "cell_type": "code",
   "execution_count": 12,
   "id": "300bccd2-e9a0-4cc5-967a-1e3328dbb1bc",
   "metadata": {},
   "outputs": [
    {
     "name": "stdout",
     "output_type": "stream",
     "text": [
      "Epoch [1/20], Loss: 1.7084\n",
      "Epoch [2/20], Loss: 1.2225\n",
      "Epoch [3/20], Loss: 1.5436\n",
      "Epoch [4/20], Loss: 0.9692\n",
      "Epoch [5/20], Loss: 2.1287\n",
      "Epoch [6/20], Loss: 0.8969\n",
      "Epoch [7/20], Loss: 1.3061\n",
      "Epoch [8/20], Loss: 0.8049\n",
      "Epoch [9/20], Loss: 1.0891\n",
      "Epoch [10/20], Loss: 0.7078\n",
      "Epoch [11/20], Loss: 0.5660\n",
      "Epoch [12/20], Loss: 0.5641\n",
      "Epoch [13/20], Loss: 0.7317\n",
      "Epoch [14/20], Loss: 1.0506\n",
      "Epoch [15/20], Loss: 0.7200\n",
      "Epoch [16/20], Loss: 1.1484\n",
      "Epoch [17/20], Loss: 0.3465\n",
      "Epoch [18/20], Loss: 1.0061\n",
      "Epoch [19/20], Loss: 0.2850\n",
      "Epoch [20/20], Loss: 0.1617\n"
     ]
    }
   ],
   "source": [
    "total_step = len(train_loader)\n",
    "for epoch in range(num_epochs):\n",
    "    for i, (images, labels) in enumerate(train_loader):  \n",
    "        # Move tensors to the configured device\n",
    "        images = images.to(device)\n",
    "        labels = labels.to(device)\n",
    "        \n",
    "        # Forward pass\n",
    "        outputs = model(images)\n",
    "        loss = criterion(outputs, labels)\n",
    "        \n",
    "        # Backward and optimize\n",
    "        optimizer.zero_grad()\n",
    "        loss.backward()\n",
    "        optimizer.step()\n",
    "\n",
    "    print('Epoch [{}/{}], Loss: {:.4f}'.format(epoch+1, num_epochs, loss.item()))"
   ]
  },
  {
   "cell_type": "markdown",
   "id": "0494a3a0-ab04-4efb-879d-99887092f325",
   "metadata": {},
   "source": [
    "# Testing Prediction"
   ]
  },
  {
   "cell_type": "code",
   "execution_count": 13,
   "id": "e3d7ff37-3159-4109-9990-ec8194a0db1b",
   "metadata": {},
   "outputs": [
    {
     "name": "stdout",
     "output_type": "stream",
     "text": [
      "Accuracy of the network on the 50000 train images: 83.212 %\n"
     ]
    }
   ],
   "source": [
    "with torch.no_grad():\n",
    "    correct = 0\n",
    "    total = 0\n",
    "    for images, labels in train_loader:\n",
    "        images = images.to(device)\n",
    "        labels = labels.to(device)\n",
    "        outputs = model(images)\n",
    "        _, predicted = torch.max(outputs.data, 1)\n",
    "        total += labels.size(0)\n",
    "        correct += (predicted == labels).sum().item()\n",
    "    \n",
    "    print('Accuracy of the network on the {} train images: {} %'.format(50000, 100 * correct / total))"
   ]
  },
  {
   "cell_type": "code",
   "execution_count": null,
   "id": "5e4d5584-c88c-4c2f-aec4-ffb5a5138e2f",
   "metadata": {},
   "outputs": [],
   "source": []
  }
 ],
 "metadata": {
  "kernelspec": {
   "display_name": "Python 3 (ipykernel)",
   "language": "python",
   "name": "python3"
  },
  "language_info": {
   "codemirror_mode": {
    "name": "ipython",
    "version": 3
   },
   "file_extension": ".py",
   "mimetype": "text/x-python",
   "name": "python",
   "nbconvert_exporter": "python",
   "pygments_lexer": "ipython3",
   "version": "3.9.13"
  }
 },
 "nbformat": 4,
 "nbformat_minor": 5
}
