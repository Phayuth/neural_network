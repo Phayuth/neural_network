{
 "cells": [
  {
   "cell_type": "markdown",
   "metadata": {},
   "source": [
    "https://github.com/utkuozbulak/pytorch-custom-dataset-examples/tree/master/src"
   ]
  },
  {
   "cell_type": "code",
   "execution_count": 14,
   "metadata": {},
   "outputs": [],
   "source": [
    "import os\n",
    "os.environ['CUDA_VISIBLE_DEVICES'] ='0'\n",
    "\n",
    "import numpy as np\n",
    "import cv2\n",
    "# from PIL import Image\n",
    "import matplotlib.pyplot as plt\n",
    "import torch.nn as nn\n",
    "import glob\n",
    "import torch\n",
    "import torchvision\n",
    "from torch.utils.data.dataset import Dataset"
   ]
  },
  {
   "cell_type": "markdown",
   "metadata": {},
   "source": [
    "# Create Dataset"
   ]
  },
  {
   "cell_type": "code",
   "execution_count": 15,
   "metadata": {},
   "outputs": [],
   "source": [
    "class mondatacatdog(Dataset):\n",
    "    def __init__(self, folder_path):\n",
    "        \"\"\"\n",
    "        A dataset example where the class is embedded in the file names\n",
    "        This data example also does not use any torch transforms\n",
    "        Args:\n",
    "            folder_path (string): path to image folder\n",
    "        \"\"\"\n",
    "        # Get image list\n",
    "        self.image_list = glob.glob(folder_path+'*')\n",
    "        # Calculate len\n",
    "        self.data_len = len(self.image_list)\n",
    "\n",
    "    def __getitem__(self, index):\n",
    "        # Get image name from the path\n",
    "        single_image_path = self.image_list[index]\n",
    "        # Open image\n",
    "        # im_as_im = Image.open(single_image_path) #original\n",
    "        im_gray = cv2.imread(single_image_path, cv2.IMREAD_GRAYSCALE)\n",
    "        im_gray = cv2.resize(im_gray, (28,28))\n",
    "        # Do some operations on image\n",
    "        # Convert to numpy, dim = 28x28\n",
    "        \n",
    "        \n",
    "        # im_as_np = np.asarray(im_as_im)/255 #original\n",
    "        # sudo apt-get install fdupes\n",
    "        \n",
    "        # Add channel dimension, dim = 1x28x28\n",
    "        # Note: You do not need to do this if you are reading RGB images\n",
    "        # or i there is already channel dimension\n",
    "        # im_as_np = np.expand_dims(im_as_np, 0)\n",
    "\n",
    "        # Transform image to tensor, change data type\n",
    "        # im_as_ten = torch.from_numpy(im_as_np).float() #original\n",
    "        im_as_ten = torch.from_numpy(im_gray/255).float()\n",
    "        # Get label(class) of the image based on the file name\n",
    "        # Let cat = 0, dog = 1\n",
    "        \n",
    "        # class_indicator_location = single_image_path.rfind('dog')\n",
    "        # label = int(single_image_path[class_indicator_location+2:class_indicator_location+3])\n",
    "        if \"cat\" in single_image_path:\n",
    "            label = 0\n",
    "        else:\n",
    "            label = 1\n",
    "        return (im_as_ten, label)\n",
    "\n",
    "    def __len__(self):\n",
    "        return self.data_len"
   ]
  },
  {
   "cell_type": "markdown",
   "metadata": {
    "tags": []
   },
   "source": [
    "# View and Verify Created Dataset"
   ]
  },
  {
   "cell_type": "code",
   "execution_count": 16,
   "metadata": {},
   "outputs": [
    {
     "name": "stdout",
     "output_type": "stream",
     "text": [
      "8000\n",
      "/home/airlab/classification_catdog/dataset/train/cat.701.jpg\n",
      "2000\n",
      "/home/airlab/classification_catdog/dataset/test/cat.4465.jpg\n"
     ]
    }
   ],
   "source": [
    "dataset_train = mondatacatdog('/home/airlab/classification_catdog/dataset/train/')\n",
    "dataset_test  = mondatacatdog('/home/airlab/classification_catdog/dataset/test/')\n",
    "print(dataset_train.data_len)\n",
    "print(dataset_train.image_list[0])\n",
    "print(dataset_test.data_len)\n",
    "print(dataset_test.image_list[0])"
   ]
  },
  {
   "cell_type": "code",
   "execution_count": 17,
   "metadata": {},
   "outputs": [
    {
     "name": "stdout",
     "output_type": "stream",
     "text": [
      "torch.Size([28, 28])\n",
      "0\n"
     ]
    },
    {
     "data": {
      "text/plain": [
       "<matplotlib.image.AxesImage at 0x7f6e50f339a0>"
      ]
     },
     "execution_count": 17,
     "metadata": {},
     "output_type": "execute_result"
    },
    {
     "data": {
      "image/png": "[encoded data removed]",
      "text/plain": [
       "<Figure size 640x480 with 1 Axes>"
      ]
     },
     "metadata": {},
     "output_type": "display_data"
    }
   ],
   "source": [
    "imt, label = dataset_train.__getitem__(7520)\n",
    "print(imt.size())\n",
    "print(label)\n",
    "plt.imshow(imt)"
   ]
  },
  {
   "cell_type": "markdown",
   "metadata": {},
   "source": [
    "# Load Data Set"
   ]
  },
  {
   "cell_type": "code",
   "execution_count": 18,
   "metadata": {},
   "outputs": [
    {
     "name": "stdout",
     "output_type": "stream",
     "text": [
      "1000\n",
      "1\n"
     ]
    }
   ],
   "source": [
    "from torch.utils.data import DataLoader\n",
    "\n",
    "dataloader_train = DataLoader(dataset = dataset_train , batch_size = 8, shuffle = True)\n",
    "dataloader_test  = DataLoader(dataset = dataset_test  , batch_size = 2000)#, shuffle = True)\n",
    "print(len(dataloader_train))\n",
    "print(len(dataloader_test))"
   ]
  },
  {
   "cell_type": "code",
   "execution_count": 19,
   "metadata": {},
   "outputs": [
    {
     "name": "stdout",
     "output_type": "stream",
     "text": [
      "torch.Size([8, 28, 28])\n",
      "torch.Size([8])\n"
     ]
    }
   ],
   "source": [
    "for img, targ in dataloader_train:\n",
    "    print(img.shape)\n",
    "    print(targ.shape)\n",
    "    break"
   ]
  },
  {
   "cell_type": "code",
   "execution_count": 20,
   "metadata": {},
   "outputs": [
    {
     "data": {
      "image/png": "[encoded data removed]",
      "text/plain": [
       "<Figure size 640x480 with 1 Axes>"
      ]
     },
     "metadata": {},
     "output_type": "display_data"
    }
   ],
   "source": [
    "from IPython.display import clear_output\n",
    "import time\n",
    "for i in range(7):\n",
    "    plt.imshow(img[i])\n",
    "    plt.title(\"Target : \" + str(targ[i].item()))\n",
    "    plt.show()\n",
    "    time.sleep(1)\n",
    "    clear_output(wait=True)"
   ]
  },
  {
   "cell_type": "markdown",
   "metadata": {},
   "source": [
    "# Create Model"
   ]
  },
  {
   "cell_type": "code",
   "execution_count": 21,
   "metadata": {},
   "outputs": [],
   "source": [
    "class Model(nn.Module):\n",
    "    def __init__(self,nm_class = 2):\n",
    "        super(Model,self).__init__()\n",
    "        self.nm_class = nm_class\n",
    "        self.linear1 = nn.Linear(28*28,28*28*2)\n",
    "        self.linear2 = nn.Linear(28*28*2,nm_class)\n",
    "        self.relu = nn.ReLU()\n",
    "        self.bn = nn.BatchNorm1d(28*28*2)\n",
    "\n",
    "    def forward(self, x):\n",
    "        # we have image (8,1,28,28), we want to (8,28*28)\n",
    "        x = x.reshape(x.shape[0],-1)\n",
    "        x = self.linear1(x)\n",
    "        x = self.bn(x)\n",
    "        x = self.relu(x)\n",
    "        x = self.linear2(x)\n",
    "        return x"
   ]
  },
  {
   "cell_type": "code",
   "execution_count": 22,
   "metadata": {},
   "outputs": [
    {
     "name": "stdout",
     "output_type": "stream",
     "text": [
      "Model(\n",
      "  (linear1): Linear(in_features=784, out_features=1568, bias=True)\n",
      "  (linear2): Linear(in_features=1568, out_features=2, bias=True)\n",
      "  (relu): ReLU()\n",
      "  (bn): BatchNorm1d(1568, eps=1e-05, momentum=0.1, affine=True, track_running_stats=True)\n",
      ")\n"
     ]
    }
   ],
   "source": [
    "model = Model(nm_class = 2).to(\"cuda\")\n",
    "print(model)"
   ]
  },
  {
   "cell_type": "code",
   "execution_count": 24,
   "metadata": {},
   "outputs": [
    {
     "name": "stdout",
     "output_type": "stream",
     "text": [
      "torch.Size([8, 28, 28])\n",
      "torch.Size([8, 2])\n"
     ]
    }
   ],
   "source": [
    "# fake data\n",
    "f_data = torch.rand((8,28,28)).to(\"cuda\")\n",
    "outp = model(f_data)\n",
    "print(f_data.shape)\n",
    "print(outp.shape)"
   ]
  },
  {
   "cell_type": "markdown",
   "metadata": {},
   "source": [
    "# Create Loss and Optimizer"
   ]
  },
  {
   "cell_type": "code",
   "execution_count": 25,
   "metadata": {},
   "outputs": [],
   "source": [
    "criterion = nn.CrossEntropyLoss()\n",
    "optimizer = torch.optim.Adam(params = model.parameters(),lr = 0.0003)"
   ]
  },
  {
   "cell_type": "markdown",
   "metadata": {},
   "source": [
    "# Trainning"
   ]
  },
  {
   "cell_type": "code",
   "execution_count": 26,
   "metadata": {},
   "outputs": [
    {
     "name": "stdout",
     "output_type": "stream",
     "text": [
      "EPC : 0   Acc:  tensor(0.9999, device='cuda:0')\n",
      "EPC : 1   Acc:  tensor(1., device='cuda:0')\n",
      "EPC : 2   Acc:  tensor(1., device='cuda:0')\n",
      "EPC : 3   Acc:  tensor(1., device='cuda:0')\n",
      "EPC : 4   Acc:  tensor(1., device='cuda:0')\n",
      "EPC : 5   Acc:  tensor(1., device='cuda:0')\n",
      "EPC : 6   Acc:  tensor(1., device='cuda:0')\n",
      "EPC : 7   Acc:  tensor(1., device='cuda:0')\n",
      "EPC : 8   Acc:  tensor(1., device='cuda:0')\n",
      "EPC : 9   Acc:  tensor(1., device='cuda:0')\n"
     ]
    }
   ],
   "source": [
    "#train\n",
    "for epc in range(10):\n",
    "    model.train()\n",
    "    num_cor = 0\n",
    "    num_samp = 0\n",
    "    loss_list = []\n",
    "    for data,target in dataloader_train:\n",
    "        data = data.to(\"cuda\")\n",
    "        target = target.to(\"cuda\")\n",
    "\n",
    "        #forward\n",
    "        output = model(data)\n",
    "        loss = criterion(output,target)\n",
    "        loss_list.append(loss)\n",
    "        \n",
    "        _,pred = output.max(1)\n",
    "\n",
    "        num_cor += (pred == target).sum()\n",
    "        num_samp += pred.size(0)\n",
    "        \n",
    "\n",
    "        #backward\n",
    "        optimizer.zero_grad()\n",
    "        loss.backward()\n",
    "\n",
    "        #grad decent or adam\n",
    "        optimizer.step()\n",
    "    acc = num_cor/num_samp\n",
    "    print(\"EPC : \"+str(epc)+\"   Acc:  \"+str(acc))"
   ]
  },
  {
   "cell_type": "markdown",
   "metadata": {},
   "source": [
    "# Testing Set"
   ]
  },
  {
   "cell_type": "code",
   "execution_count": 30,
   "metadata": {},
   "outputs": [
    {
     "name": "stdout",
     "output_type": "stream",
     "text": [
      "torch.Size([2, 28, 28])\n",
      "torch.Size([2, 2])\n"
     ]
    }
   ],
   "source": [
    "fff_data = torch.rand((2,28,28)).to(\"cuda\")\n",
    "outppp = model(fff_data)\n",
    "print(fff_data.shape)\n",
    "print(outppp.shape)"
   ]
  },
  {
   "cell_type": "code",
   "execution_count": 34,
   "metadata": {},
   "outputs": [
    {
     "name": "stdout",
     "output_type": "stream",
     "text": [
      "----------------------STARTING TO PREDICT----------------------\n",
      "The ground trust is : 0\n",
      "The prediction is if 0 is cat and 1 is dog. and the model say that : 0\n"
     ]
    },
    {
     "data": {
      "image/png": "[encoded data removed]",
      "text/plain": [
       "<Figure size 640x480 with 1 Axes>"
      ]
     },
     "metadata": {},
     "output_type": "display_data"
    }
   ],
   "source": [
    "index = 25\n",
    "for imgt, targt in dataloader_test:\n",
    "    # print(imgt.size())\n",
    "    # print(imgt[1].size())\n",
    "    print(\"----------------------STARTING TO PREDICT----------------------\")\n",
    "    pred = model(imgt.to(\"cuda\"))\n",
    "    print(\"The ground trust is : %d\"%targt[index].item())\n",
    "    print(\"The prediction is if 0 is cat and 1 is dog. and the model say that : %d\"%pred[index].argmax().item())\n",
    "    plt.imshow(imgt[index])\n",
    "    break"
   ]
  },
  {
   "cell_type": "markdown",
   "metadata": {},
   "source": [
    "# Save and Load Model"
   ]
  },
  {
   "cell_type": "code",
   "execution_count": 32,
   "metadata": {},
   "outputs": [],
   "source": [
    "torch.save(model, \"modelsave.pt\")"
   ]
  },
  {
   "cell_type": "code",
   "execution_count": 33,
   "metadata": {},
   "outputs": [
    {
     "data": {
      "text/plain": [
       "Model(\n",
       "  (linear1): Linear(in_features=784, out_features=1568, bias=True)\n",
       "  (linear2): Linear(in_features=1568, out_features=2, bias=True)\n",
       "  (relu): ReLU()\n",
       "  (bn): BatchNorm1d(1568, eps=1e-05, momentum=0.1, affine=True, track_running_stats=True)\n",
       ")"
      ]
     },
     "execution_count": 33,
     "metadata": {},
     "output_type": "execute_result"
    }
   ],
   "source": [
    "model = torch.load(\"./modelsave.pt\")\n",
    "model.eval()"
   ]
  },
  {
   "cell_type": "code",
   "execution_count": null,
   "metadata": {},
   "outputs": [],
   "source": [
    "index = 25\n",
    "for imgt, targt in dataloader_test:\n",
    "    # print(imgt.size())\n",
    "    # print(imgt[1].size())\n",
    "    print(\"----------------------STARTING TO PREDICT----------------------\")\n",
    "    pred = model(imgt.to(\"cuda\"))\n",
    "    print(\"The ground trust is : %d\"%targt[index].item())\n",
    "    print(\"The prediction is if 0 is cat and 1 is dog. and the model say that : %d\"%pred[index].argmax().item())\n",
    "    plt.imshow(imgt[index])\n",
    "    break"
   ]
  }
 ],
 "metadata": {
  "kernelspec": {
   "display_name": "yuth-mldl",
   "language": "python",
   "name": "python3"
  },
  "language_info": {
   "codemirror_mode": {
    "name": "ipython",
    "version": 3
   },
   "file_extension": ".py",
   "mimetype": "text/x-python",
   "name": "python",
   "nbconvert_exporter": "python",
   "pygments_lexer": "ipython3",
   "version": "3.9.13"
  },
  "toc-autonumbering": true,
  "toc-showmarkdowntxt": false,
  "vscode": {
   "interpreter": {
    "hash": "ea1eab7b55522cfd78d4c86d123511d3b1ac86a861556ba9bf273c459b4d6b8e"
   }
  }
 },
 "nbformat": 4,
 "nbformat_minor": 4
}
