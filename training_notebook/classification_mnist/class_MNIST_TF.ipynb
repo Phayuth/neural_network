{
 "cells": [
  {
   "cell_type": "markdown",
   "id": "bh6b32rWG4Fz",
   "metadata": {
    "id": "bh6b32rWG4Fz"
   },
   "source": [
    "MNIST = Modified National Institute of Standards and Technology. Large database of handwritten digits that is commonly used for training various image processing systems."
   ]
  },
  {
   "cell_type": "code",
   "execution_count": 1,
   "id": "60edc9a1",
   "metadata": {},
   "outputs": [
    {
     "name": "stdout",
     "output_type": "stream",
     "text": [
      "Fri Oct 28 19:46:27 2022       \n",
      "+-----------------------------------------------------------------------------+\n",
      "| NVIDIA-SMI 512.78       Driver Version: 512.78       CUDA Version: 11.6     |\n",
      "|-------------------------------+----------------------+----------------------+\n",
      "| GPU  Name            TCC/WDDM | Bus-Id        Disp.A | Volatile Uncorr. ECC |\n",
      "| Fan  Temp  Perf  Pwr:Usage/Cap|         Memory-Usage | GPU-Util  Compute M. |\n",
      "|                               |                      |               MIG M. |\n",
      "|===============================+======================+======================|\n",
      "|   0  NVIDIA GeForce ... WDDM  | 00000000:01:00.0 Off |                  N/A |\n",
      "| N/A   57C    P0    14W /  N/A |      0MiB /  4096MiB |      0%      Default |\n",
      "|                               |                      |                  N/A |\n",
      "+-------------------------------+----------------------+----------------------+\n",
      "                                                                               \n",
      "+-----------------------------------------------------------------------------+\n",
      "| Processes:                                                                  |\n",
      "|  GPU   GI   CI        PID   Type   Process name                  GPU Memory |\n",
      "|        ID   ID                                                   Usage      |\n",
      "|=============================================================================|\n",
      "+-----------------------------------------------------------------------------+\n"
     ]
    }
   ],
   "source": [
    "!nvidia-smi"
   ]
  },
  {
   "cell_type": "code",
   "execution_count": 2,
   "id": "dc196719",
   "metadata": {
    "executionInfo": {
     "elapsed": 3124,
     "status": "ok",
     "timestamp": 1662788838294,
     "user": {
      "displayName": "Pha Yuth",
      "userId": "17204196560708160409"
     },
     "user_tz": -540
    },
    "id": "dc196719"
   },
   "outputs": [],
   "source": [
    "# Import Lib\n",
    "import os\n",
    "os.environ[\"TF_CPP_MIN_LOG_LEVEL\"] = \"2\"\n",
    "import tensorflow as tf          #tensorflow achitecture\n",
    "from tensorflow import keras     #Python interface for artificial neural networks. Keras acts as an interface for the TensorFlow library.\n",
    "import matplotlib.pyplot as plt  #graph plot\n",
    "import numpy as np"
   ]
  },
  {
   "cell_type": "code",
   "execution_count": 25,
   "id": "7fa6f99c",
   "metadata": {
    "colab": {
     "base_uri": "https://localhost:8080/"
    },
    "executionInfo": {
     "elapsed": 707,
     "status": "ok",
     "timestamp": 1662788878189,
     "user": {
      "displayName": "Pha Yuth",
      "userId": "17204196560708160409"
     },
     "user_tz": -540
    },
    "id": "7fa6f99c",
    "outputId": "c85344aa-23ac-4ad7-aa38-3787a88954f1"
   },
   "outputs": [],
   "source": [
    "# Load data from dataset and divide into training set and testing set\n",
    "# (input_train , answer_train) , (input_test , answer_test) = keras.datasets.mnist.load_data()\n",
    "(x_train_ori, y_train), (x_test_ori, y_test) = keras.datasets.mnist.load_data()"
   ]
  },
  {
   "cell_type": "code",
   "execution_count": 26,
   "id": "uMZV6fGu8ORy",
   "metadata": {
    "colab": {
     "base_uri": "https://localhost:8080/"
    },
    "executionInfo": {
     "elapsed": 284,
     "status": "ok",
     "timestamp": 1662788900770,
     "user": {
      "displayName": "Pha Yuth",
      "userId": "17204196560708160409"
     },
     "user_tz": -540
    },
    "id": "uMZV6fGu8ORy",
    "outputId": "7cdc9925-1c26-4e88-9c0e-87cab2b58c46"
   },
   "outputs": [
    {
     "data": {
      "text/plain": [
       "(60000, 28, 28)"
      ]
     },
     "execution_count": 26,
     "metadata": {},
     "output_type": "execute_result"
    }
   ],
   "source": [
    "x_train_ori.shape"
   ]
  },
  {
   "cell_type": "code",
   "execution_count": 27,
   "id": "65dacdca",
   "metadata": {
    "colab": {
     "base_uri": "https://localhost:8080/",
     "height": 300
    },
    "executionInfo": {
     "elapsed": 265,
     "status": "ok",
     "timestamp": 1662689458905,
     "user": {
      "displayName": "Pha Yuth",
      "userId": "17204196560708160409"
     },
     "user_tz": -540
    },
    "id": "65dacdca",
    "outputId": "d2e7cc3b-c4ac-4c66-b1c3-5f616bb74325"
   },
   "outputs": [
    {
     "name": "stdout",
     "output_type": "stream",
     "text": [
      "5\n"
     ]
    },
    {
     "data": {
      "text/plain": [
       "<matplotlib.image.AxesImage at 0x29016f31070>"
      ]
     },
     "execution_count": 27,
     "metadata": {},
     "output_type": "execute_result"
    },
    {
     "data": {
      "image/png": "[encoded data removed]",
      "text/plain": [
       "<Figure size 640x480 with 1 Axes>"
      ]
     },
     "metadata": {},
     "output_type": "display_data"
    }
   ],
   "source": [
    "# Display the data from the set\n",
    "y_train #answer of train data ( in (1 X N) vector )\n",
    "print(y_train[0]) \n",
    "plt.imshow(x_train_ori[0])"
   ]
  },
  {
   "cell_type": "code",
   "execution_count": 24,
   "id": "0ca57522",
   "metadata": {
    "colab": {
     "base_uri": "https://localhost:8080/"
    },
    "executionInfo": {
     "elapsed": 273,
     "status": "ok",
     "timestamp": 1662718979320,
     "user": {
      "displayName": "Pha Yuth",
      "userId": "17204196560708160409"
     },
     "user_tz": -540
    },
    "id": "0ca57522",
    "outputId": "58fc41b9-18c3-4c3c-dd09-ac1d4e3a6fec"
   },
   "outputs": [
    {
     "name": "stdout",
     "output_type": "stream",
     "text": [
      "(60000, 784)\n",
      "[[0. 0. 0. ... 0. 0. 0.]\n",
      " [0. 0. 0. ... 0. 0. 0.]\n",
      " [0. 0. 0. ... 0. 0. 0.]\n",
      " ...\n",
      " [0. 0. 0. ... 0. 0. 0.]\n",
      " [0. 0. 0. ... 0. 0. 0.]\n",
      " [0. 0. 0. ... 0. 0. 0.]]\n",
      "[5 0 4 ... 5 6 8]\n"
     ]
    }
   ],
   "source": [
    "#Reshape dataset to desired value by mapping 0 to 255 to only 0 to 1 and into one dimensional image\n",
    "x_train = x_train_ori.reshape(-1, 28 * 28).astype(\"float32\") / 255.0\n",
    "x_test = x_test_ori.reshape(-1, 28 * 28).astype(\"float32\") / 255.0\n",
    "print(np.shape(x_train))\n",
    "print(x_train)\n",
    "print(y_train)"
   ]
  },
  {
   "cell_type": "markdown",
   "id": "UJLoFEHJmVjW",
   "metadata": {
    "id": "UJLoFEHJmVjW"
   },
   "source": [
    "Creating the MODEL (3 ways of creating the model)"
   ]
  },
  {
   "cell_type": "code",
   "execution_count": 7,
   "id": "ce81b466",
   "metadata": {
    "id": "ce81b466"
   },
   "outputs": [],
   "source": [
    "# 1st Method\n",
    "model = keras.Sequential(\n",
    "    [\n",
    "        keras.Input(shape=(28 * 28)),\n",
    "        keras.layers.Dense(512, activation=\"relu\"),\n",
    "        keras.layers.Dense(256, activation=\"relu\"),\n",
    "        keras.layers.Dense(10, activation= \"sigmoid\"),\n",
    "    ]\n",
    ")"
   ]
  },
  {
   "cell_type": "code",
   "execution_count": null,
   "id": "29cfeb88",
   "metadata": {
    "id": "29cfeb88"
   },
   "outputs": [],
   "source": [
    "# 2nd Method\n",
    "model = keras.Sequential()\n",
    "model.add(keras.Input(shape=(784)))\n",
    "model.add(keras.layers.Dense(512, activation=\"relu\"))\n",
    "model.add(keras.layers.Dense(256, activation=\"relu\"))\n",
    "model.add(keras.layers.Dense(10, activation = 'sigmoid'))"
   ]
  },
  {
   "cell_type": "code",
   "execution_count": null,
   "id": "899ee3b0",
   "metadata": {
    "id": "899ee3b0"
   },
   "outputs": [],
   "source": [
    "# 3rd Method\n",
    "inputs = keras.Input(shape=(784))\n",
    "x = keras.layers.Dense(512, activation=\"relu\")(inputs)\n",
    "x = keras.layers.Dense(256, activation=\"relu\")(x)\n",
    "outputs = keras.layers.Dense(10, activation=\"softmax\")(x)\n",
    "model = keras.Model(inputs=inputs, outputs=outputs)"
   ]
  },
  {
   "cell_type": "code",
   "execution_count": null,
   "id": "mTq2ub16mynt",
   "metadata": {
    "colab": {
     "base_uri": "https://localhost:8080/"
    },
    "executionInfo": {
     "elapsed": 402,
     "status": "ok",
     "timestamp": 1662690423533,
     "user": {
      "displayName": "Pha Yuth",
      "userId": "17204196560708160409"
     },
     "user_tz": -540
    },
    "id": "mTq2ub16mynt",
    "outputId": "f5598f07-73e7-485f-a92e-6d78b17fd0e0"
   },
   "outputs": [],
   "source": [
    "model.summary() #print the overall preview of the model"
   ]
  },
  {
   "cell_type": "markdown",
   "id": "vDts23tqnCbG",
   "metadata": {
    "id": "vDts23tqnCbG"
   },
   "source": [
    "Compile the model"
   ]
  },
  {
   "cell_type": "code",
   "execution_count": 8,
   "id": "560be017",
   "metadata": {
    "id": "560be017"
   },
   "outputs": [],
   "source": [
    "model.compile(\n",
    "    loss=keras.losses.SparseCategoricalCrossentropy(from_logits=False),\n",
    "    optimizer=keras.optimizers.Adam(learning_rate=0.001), # choose optimizer and learning rate\n",
    "    metrics=[\"accuracy\"], # choose metrics\n",
    ")"
   ]
  },
  {
   "cell_type": "markdown",
   "id": "iHb6XJNbndSH",
   "metadata": {
    "id": "iHb6XJNbndSH"
   },
   "source": [
    "Start the TRAINNING"
   ]
  },
  {
   "cell_type": "code",
   "execution_count": 9,
   "id": "43b2f43f",
   "metadata": {
    "colab": {
     "base_uri": "https://localhost:8080/"
    },
    "executionInfo": {
     "elapsed": 135870,
     "status": "ok",
     "timestamp": 1662691825029,
     "user": {
      "displayName": "Pha Yuth",
      "userId": "17204196560708160409"
     },
     "user_tz": -540
    },
    "id": "43b2f43f",
    "outputId": "71c37962-7bf4-4a0d-8eec-80a473dc1335"
   },
   "outputs": [
    {
     "name": "stdout",
     "output_type": "stream",
     "text": [
      "Epoch 1/10\n",
      "1875/1875 - 4s - loss: 0.1862 - accuracy: 0.9425 - 4s/epoch - 2ms/step\n",
      "Epoch 2/10\n",
      "1875/1875 - 5s - loss: 0.0797 - accuracy: 0.9756 - 5s/epoch - 2ms/step\n",
      "Epoch 3/10\n",
      "1875/1875 - 4s - loss: 0.0556 - accuracy: 0.9824 - 4s/epoch - 2ms/step\n",
      "Epoch 4/10\n",
      "1875/1875 - 4s - loss: 0.0411 - accuracy: 0.9869 - 4s/epoch - 2ms/step\n",
      "Epoch 5/10\n",
      "1875/1875 - 4s - loss: 0.0325 - accuracy: 0.9892 - 4s/epoch - 2ms/step\n",
      "Epoch 6/10\n",
      "1875/1875 - 5s - loss: 0.0272 - accuracy: 0.9912 - 5s/epoch - 3ms/step\n",
      "Epoch 7/10\n",
      "1875/1875 - 5s - loss: 0.0232 - accuracy: 0.9923 - 5s/epoch - 3ms/step\n",
      "Epoch 8/10\n",
      "1875/1875 - 5s - loss: 0.0211 - accuracy: 0.9929 - 5s/epoch - 2ms/step\n",
      "Epoch 9/10\n",
      "1875/1875 - 4s - loss: 0.0177 - accuracy: 0.9942 - 4s/epoch - 2ms/step\n",
      "Epoch 10/10\n",
      "1875/1875 - 5s - loss: 0.0184 - accuracy: 0.9941 - 5s/epoch - 2ms/step\n"
     ]
    }
   ],
   "source": [
    "history = model.fit(x_train, y_train, batch_size=32, epochs=10, verbose=2) #start training by pass in training data, training answer, choose batch size, epochs, verbose"
   ]
  },
  {
   "cell_type": "markdown",
   "id": "Ju4Hu0oQogKw",
   "metadata": {
    "id": "Ju4Hu0oQogKw"
   },
   "source": [
    "Print the Plot of loss function and Print the Plot of accuracy"
   ]
  },
  {
   "cell_type": "code",
   "execution_count": 15,
   "id": "4b8309d5",
   "metadata": {
    "colab": {
     "base_uri": "https://localhost:8080/",
     "height": 573
    },
    "executionInfo": {
     "elapsed": 960,
     "status": "ok",
     "timestamp": 1662691834518,
     "user": {
      "displayName": "Pha Yuth",
      "userId": "17204196560708160409"
     },
     "user_tz": -540
    },
    "id": "4b8309d5",
    "outputId": "5ccdbfac-d719-4246-86ee-88960d6c0dc6"
   },
   "outputs": [
    {
     "data": {
      "image/png": "[encoded data removed]",
      "text/plain": [
       "<Figure size 640x480 with 1 Axes>"
      ]
     },
     "metadata": {},
     "output_type": "display_data"
    },
    {
     "data": {
      "image/png": "[encoded data removed]",
      "text/plain": [
       "<Figure size 640x480 with 1 Axes>"
      ]
     },
     "metadata": {},
     "output_type": "display_data"
    }
   ],
   "source": [
    "plt.plot(history.history['loss'])\n",
    "plt.title('model loss')\n",
    "plt.ylabel('loss')\n",
    "plt.xlabel('epoch')\n",
    "plt.legend(['train'], loc='upper left')\n",
    "plt.show()\n",
    "\n",
    "plt.plot(history.history['accuracy'])\n",
    "plt.title('model accuracy')\n",
    "plt.ylabel('laccuracy')\n",
    "plt.xlabel('epoch')\n",
    "plt.legend(['train'], loc='upper left')\n",
    "plt.show()"
   ]
  },
  {
   "cell_type": "markdown",
   "id": "UhYxamMeo_xA",
   "metadata": {
    "id": "UhYxamMeo_xA"
   },
   "source": [
    "Start testing the Trained Model using the test data to evaluate model"
   ]
  },
  {
   "cell_type": "code",
   "execution_count": 16,
   "id": "820b9ba2",
   "metadata": {
    "colab": {
     "base_uri": "https://localhost:8080/"
    },
    "executionInfo": {
     "elapsed": 1611,
     "status": "ok",
     "timestamp": 1662691842920,
     "user": {
      "displayName": "Pha Yuth",
      "userId": "17204196560708160409"
     },
     "user_tz": -540
    },
    "id": "820b9ba2",
    "outputId": "947271b7-176e-4212-e40f-05ba260b4cf9"
   },
   "outputs": [
    {
     "name": "stdout",
     "output_type": "stream",
     "text": [
      "313/313 - 0s - loss: 0.0923 - accuracy: 0.9782 - 472ms/epoch - 2ms/step\n"
     ]
    },
    {
     "data": {
      "text/plain": [
       "[0.09230036288499832, 0.9782000184059143]"
      ]
     },
     "execution_count": 16,
     "metadata": {},
     "output_type": "execute_result"
    }
   ],
   "source": [
    "model.evaluate(x_test, y_test, batch_size=32, verbose=2)"
   ]
  },
  {
   "cell_type": "markdown",
   "id": "wnThA8nspNKQ",
   "metadata": {
    "id": "wnThA8nspNKQ"
   },
   "source": [
    "View the trained weight and the bias"
   ]
  },
  {
   "cell_type": "code",
   "execution_count": null,
   "id": "7f004849",
   "metadata": {
    "id": "7f004849"
   },
   "outputs": [],
   "source": [
    "weight = model.get_weights()[0]\n",
    "print(weight)\n",
    "print(\"----------------------------\")\n",
    "bias = model.get_weights()[1]\n",
    "print(bias)"
   ]
  },
  {
   "cell_type": "markdown",
   "id": "UGBibcBqpfqr",
   "metadata": {
    "id": "UGBibcBqpfqr"
   },
   "source": [
    "Start testing the model by use it to predicting the test"
   ]
  },
  {
   "cell_type": "code",
   "execution_count": 17,
   "id": "4eb4de64",
   "metadata": {
    "id": "4eb4de64"
   },
   "outputs": [
    {
     "name": "stdout",
     "output_type": "stream",
     "text": [
      "313/313 [==============================] - 0s 1ms/step\n"
     ]
    }
   ],
   "source": [
    "predictions = model.predict(x_test)"
   ]
  },
  {
   "cell_type": "code",
   "execution_count": 19,
   "id": "57dba8c5",
   "metadata": {
    "colab": {
     "base_uri": "https://localhost:8080/",
     "height": 265
    },
    "executionInfo": {
     "elapsed": 348,
     "status": "ok",
     "timestamp": 1662691863827,
     "user": {
      "displayName": "Pha Yuth",
      "userId": "17204196560708160409"
     },
     "user_tz": -540
    },
    "id": "57dba8c5",
    "outputId": "440ecae3-3d87-4b80-8c03-9d626b1d4d00"
   },
   "outputs": [
    {
     "name": "stdout",
     "output_type": "stream",
     "text": [
      "(28, 28)\n"
     ]
    },
    {
     "data": {
      "image/png": "[encoded data removed]",
      "text/plain": [
       "<Figure size 640x480 with 1 Axes>"
      ]
     },
     "metadata": {},
     "output_type": "display_data"
    }
   ],
   "source": [
    "image = x_test_ori[0]# plot the sample\n",
    "print(np.shape(image))\n",
    "fig = plt.figure\n",
    "plt.imshow(image, cmap='gray')\n",
    "plt.show()"
   ]
  },
  {
   "cell_type": "code",
   "execution_count": null,
   "id": "4aebb123",
   "metadata": {
    "colab": {
     "base_uri": "https://localhost:8080/"
    },
    "executionInfo": {
     "elapsed": 414,
     "status": "ok",
     "timestamp": 1662691866347,
     "user": {
      "displayName": "Pha Yuth",
      "userId": "17204196560708160409"
     },
     "user_tz": -540
    },
    "id": "4aebb123",
    "outputId": "a46d0b05-8aba-4381-b72f-fe31bb7d4319"
   },
   "outputs": [],
   "source": [
    "np.argmax(predictions[0])"
   ]
  },
  {
   "cell_type": "code",
   "execution_count": null,
   "id": "3234f38d",
   "metadata": {
    "colab": {
     "base_uri": "https://localhost:8080/"
    },
    "executionInfo": {
     "elapsed": 494,
     "status": "ok",
     "timestamp": 1662691870246,
     "user": {
      "displayName": "Pha Yuth",
      "userId": "17204196560708160409"
     },
     "user_tz": -540
    },
    "id": "3234f38d",
    "outputId": "c96a5aa8-6a59-4ec2-a1f1-e671da3e7f9d"
   },
   "outputs": [],
   "source": [
    "y_test[0]"
   ]
  },
  {
   "cell_type": "code",
   "execution_count": 23,
   "id": "e31091a0",
   "metadata": {
    "scrolled": false
   },
   "outputs": [
    {
     "name": "stdout",
     "output_type": "stream",
     "text": [
      "(28, 28, 3)\n",
      "(3, 784)\n",
      "(28, 28, 3)\n",
      "(3, 784)\n",
      "(28, 28, 3)\n",
      "(3, 784)\n",
      "(28, 28, 3)\n",
      "(3, 784)\n",
      "(28, 28, 3)\n",
      "(3, 784)\n",
      "(28, 28, 3)\n",
      "(3, 784)\n",
      "(28, 28, 3)\n",
      "(3, 784)\n",
      "(28, 28, 3)\n",
      "(3, 784)\n",
      "(28, 28, 3)\n",
      "(3, 784)\n",
      "(28, 28, 3)\n",
      "(3, 784)\n",
      "(28, 28, 3)\n",
      "(3, 784)\n",
      "(28, 28, 3)\n",
      "(3, 784)\n",
      "(28, 28, 3)\n",
      "(3, 784)\n",
      "(28, 28, 3)\n",
      "(3, 784)\n",
      "(28, 28, 3)\n",
      "(3, 784)\n",
      "(28, 28, 3)\n",
      "(3, 784)\n",
      "(28, 28, 3)\n",
      "(3, 784)\n",
      "(28, 28, 3)\n",
      "(3, 784)\n",
      "(28, 28, 3)\n",
      "(3, 784)\n",
      "(28, 28, 3)\n",
      "(3, 784)\n",
      "(28, 28, 3)\n",
      "(3, 784)\n",
      "(28, 28, 3)\n",
      "(3, 784)\n",
      "(28, 28, 3)\n",
      "(3, 784)\n",
      "(28, 28, 3)\n",
      "(3, 784)\n",
      "(28, 28, 3)\n",
      "(3, 784)\n",
      "(28, 28, 3)\n",
      "(3, 784)\n",
      "(28, 28, 3)\n",
      "(3, 784)\n",
      "(28, 28, 3)\n",
      "(3, 784)\n",
      "(28, 28, 3)\n",
      "(3, 784)\n",
      "(28, 28, 3)\n",
      "(3, 784)\n",
      "(28, 28, 3)\n",
      "(3, 784)\n",
      "(28, 28, 3)\n",
      "(3, 784)\n",
      "(28, 28, 3)\n",
      "(3, 784)\n",
      "(28, 28, 3)\n",
      "(3, 784)\n",
      "(28, 28, 3)\n",
      "(3, 784)\n",
      "(28, 28, 3)\n",
      "(3, 784)\n",
      "(28, 28, 3)\n",
      "(3, 784)\n",
      "(28, 28, 3)\n",
      "(3, 784)\n",
      "(28, 28, 3)\n",
      "(3, 784)\n",
      "(28, 28, 3)\n",
      "(3, 784)\n",
      "(28, 28, 3)\n",
      "(3, 784)\n",
      "(28, 28, 3)\n",
      "(3, 784)\n",
      "(28, 28, 3)\n",
      "(3, 784)\n",
      "(28, 28, 3)\n",
      "(3, 784)\n",
      "(28, 28, 3)\n",
      "(3, 784)\n",
      "(28, 28, 3)\n",
      "(3, 784)\n",
      "(28, 28, 3)\n",
      "(3, 784)\n",
      "(28, 28, 3)\n",
      "(3, 784)\n",
      "(28, 28, 3)\n",
      "(3, 784)\n",
      "(28, 28, 3)\n",
      "(3, 784)\n",
      "(28, 28, 3)\n",
      "(3, 784)\n",
      "(28, 28, 3)\n",
      "(3, 784)\n",
      "(28, 28, 3)\n",
      "(3, 784)\n",
      "(28, 28, 3)\n",
      "(3, 784)\n",
      "(28, 28, 3)\n",
      "(3, 784)\n",
      "(28, 28, 3)\n",
      "(3, 784)\n",
      "(28, 28, 3)\n",
      "(3, 784)\n",
      "(28, 28, 3)\n",
      "(3, 784)\n",
      "(28, 28, 3)\n",
      "(3, 784)\n",
      "(28, 28, 3)\n",
      "(3, 784)\n",
      "(28, 28, 3)\n",
      "(3, 784)\n",
      "(28, 28, 3)\n",
      "(3, 784)\n",
      "(28, 28, 3)\n",
      "(3, 784)\n",
      "(28, 28, 3)\n",
      "(3, 784)\n",
      "(28, 28, 3)\n",
      "(3, 784)\n",
      "(28, 28, 3)\n",
      "(3, 784)\n",
      "(28, 28, 3)\n",
      "(3, 784)\n",
      "(28, 28, 3)\n",
      "(3, 784)\n",
      "(28, 28, 3)\n",
      "(3, 784)\n",
      "(28, 28, 3)\n",
      "(3, 784)\n",
      "(28, 28, 3)\n",
      "(3, 784)\n",
      "(28, 28, 3)\n",
      "(3, 784)\n",
      "(28, 28, 3)\n",
      "(3, 784)\n",
      "(28, 28, 3)\n",
      "(3, 784)\n",
      "(28, 28, 3)\n",
      "(3, 784)\n",
      "(28, 28, 3)\n",
      "(3, 784)\n",
      "(28, 28, 3)\n",
      "(3, 784)\n",
      "(28, 28, 3)\n",
      "(3, 784)\n",
      "(28, 28, 3)\n",
      "(3, 784)\n",
      "(28, 28, 3)\n",
      "(3, 784)\n",
      "(28, 28, 3)\n",
      "(3, 784)\n",
      "(28, 28, 3)\n",
      "(3, 784)\n"
     ]
    },
    {
     "data": {
      "text/plain": [
       "-1"
      ]
     },
     "execution_count": 23,
     "metadata": {},
     "output_type": "execute_result"
    }
   ],
   "source": [
    "import cv2\n",
    "cap = cv2.VideoCapture(0)\n",
    "# cap.set(3,28) # adjust width\n",
    "# cap.set(4,28) # adjust height\n",
    "\n",
    "while True:\n",
    "    success, img = cap.read()\n",
    "    img = cv2.resize(img, (28, 28))\n",
    "    print(np.shape(img))\n",
    "    cv2.imshow(\"Webcam\", img) # This will open an independent window\n",
    "    \n",
    "    img = img.reshape(-1, 28 * 28).astype(\"float32\") / 255.0\n",
    "    print(np.shape(img))\n",
    "\n",
    "    if cv2.waitKey(1) & 0xFF==ord('q'): # quit when 'q' is pressed\n",
    "        cap.release()\n",
    "        break\n",
    "        \n",
    "cv2.destroyAllWindows() \n",
    "cv2.waitKey(1) # normally unnecessary, but it fixes a bug on MacOS where the window doesn't close"
   ]
  },
  {
   "cell_type": "code",
   "execution_count": null,
   "id": "933b08ba",
   "metadata": {},
   "outputs": [],
   "source": []
  }
 ],
 "metadata": {
  "colab": {
   "collapsed_sections": [],
   "provenance": []
  },
  "kernelspec": {
   "display_name": "Python 3 (ipykernel)",
   "language": "python",
   "name": "python3"
  },
  "language_info": {
   "codemirror_mode": {
    "name": "ipython",
    "version": 3
   },
   "file_extension": ".py",
   "mimetype": "text/x-python",
   "name": "python",
   "nbconvert_exporter": "python",
   "pygments_lexer": "ipython3",
   "version": "3.9.13"
  }
 },
 "nbformat": 4,
 "nbformat_minor": 5
}
